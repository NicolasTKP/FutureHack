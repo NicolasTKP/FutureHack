{
 "cells": [
  {
   "cell_type": "code",
   "execution_count": 15,
   "id": "5d68fed2",
   "metadata": {},
   "outputs": [
    {
     "name": "stderr",
     "output_type": "stream",
     "text": [
      "[nltk_data] Downloading package punkt to\n",
      "[nltk_data]     C:\\Users\\asus\\AppData\\Roaming\\nltk_data...\n",
      "[nltk_data]   Package punkt is already up-to-date!\n",
      "[nltk_data] Downloading package stopwords to\n",
      "[nltk_data]     C:\\Users\\asus\\AppData\\Roaming\\nltk_data...\n",
      "[nltk_data]   Package stopwords is already up-to-date!\n"
     ]
    },
    {
     "data": {
      "text/plain": [
       "True"
      ]
     },
     "execution_count": 15,
     "metadata": {},
     "output_type": "execute_result"
    }
   ],
   "source": [
    "import pandas as pd\n",
    "import numpy as np\n",
    "from sklearn.cluster import KMeans\n",
    "from sklearn.feature_extraction.text import TfidfVectorizer\n",
    "from sklearn.preprocessing import MinMaxScaler\n",
    "from scipy.sparse import hstack\n",
    "import string\n",
    "import re\n",
    "import nltk\n",
    "from nltk.corpus import stopwords\n",
    "from nltk.tokenize import word_tokenize\n",
    "\n",
    "nltk.download('punkt')\n",
    "nltk.download('stopwords')"
   ]
  },
  {
   "cell_type": "code",
   "execution_count": 10,
   "id": "1284afea",
   "metadata": {},
   "outputs": [
    {
     "name": "stderr",
     "output_type": "stream",
     "text": [
      "C:\\Users\\asus\\AppData\\Local\\Temp\\ipykernel_21780\\3319899313.py:1: DtypeWarning: Columns (0) have mixed types. Specify dtype option on import or set low_memory=False.\n",
      "  df = pd.read_csv('data\\shopee_reviews.csv')\n"
     ]
    }
   ],
   "source": [
    "df = pd.read_csv('data\\shopee_reviews.csv')\n",
    "df.replace('', np.nan, inplace=True)\n",
    "df['label'] = pd.to_numeric(df['label'], errors='coerce')\n",
    "df = df.dropna()"
   ]
  },
  {
   "cell_type": "code",
   "execution_count": 25,
   "id": "be3a9f96",
   "metadata": {},
   "outputs": [
    {
     "name": "stdout",
     "output_type": "stream",
     "text": [
      "         label                                               text  cluster  \\\n",
      "0          5.0    looks ok like durable hv recommend others worth        1   \n",
      "1          5.0  tried current powerful depending setting dont ...        1   \n",
      "2          5.0  item received week looks smaller expected cant...        1   \n",
      "3          5.0  thanks works describe complaints really expect...        1   \n",
      "4          5.0  fast delivery considering overseas tried sure ...        1   \n",
      "...        ...                                                ...      ...   \n",
      "1502570    5.0                 tried fit nicely buy fast good buy        1   \n",
      "1502571    5.0  fantastic product reasonable price good qualit...        1   \n",
      "1502572    5.0  nice pair shoes gd price note cutting bit smal...        1   \n",
      "1502573    1.0  leather rubbishmoulded plastic fakehow shoppee...        2   \n",
      "1502574    3.0                size 41 smaller normal like size 40        2   \n",
      "\n",
      "                                              cleaned_text  \n",
      "0          looks ok like durable hv recommend others worth  \n",
      "1        tried current powerful depending setting dont ...  \n",
      "2        item received week looks smaller expected cant...  \n",
      "3        thanks works describe complaints really expect...  \n",
      "4        fast delivery considering overseas tried sure ...  \n",
      "...                                                    ...  \n",
      "1502570                 tried fit nicely buy fast good buy  \n",
      "1502571  fantastic product reasonable price good qualit...  \n",
      "1502572  nice pair shoes gd price note cutting bit smal...  \n",
      "1502573  leather rubbishmoulded plastic fakehow shoppee...  \n",
      "1502574                size 41 smaller normal like size 40  \n",
      "\n",
      "[1502573 rows x 4 columns]\n"
     ]
    }
   ],
   "source": [
    "custom_stopwords = set(stopwords.words('english')).union({\n",
    "    'would', 'could', 'also', 'may', 'might', 'get', 'got', 'still',\n",
    "    'even', 'much', 'many', 'though', 'yet', 'one', 'two', 'us', 'etc',\n",
    "    'let', 'make', 'made', 'use', 'used', 'using', 'go', 'come', 'take',\n",
    "    'keep', 'see', 'look', 'find', 'need', 'want', 'due', 'without',\n",
    "    'among', 'within', 'upon', 'toward', 'unto', 'ever', 'however'\n",
    "})\n",
    "\n",
    "punctuation = set(string.punctuation)\n",
    "def clean_text(text):\n",
    "    text = str(text).lower()\n",
    "    text = re.sub(r'[^\\w\\s]', '', text)  # remove punctuation\n",
    "    words = text.split()  # split by whitespace\n",
    "    words = [w for w in words if w not in custom_stopwords]\n",
    "    return ' '.join(words)\n",
    "\n",
    "df['cleaned_text'] = df['text'].apply(clean_text)\n",
    "\n",
    "print(df)"
   ]
  },
  {
   "cell_type": "code",
   "execution_count": 26,
   "id": "18f75254",
   "metadata": {},
   "outputs": [],
   "source": [
    "vectorizer = TfidfVectorizer()\n",
    "tfidf_matrix = vectorizer.fit_transform(df['text'])"
   ]
  },
  {
   "cell_type": "code",
   "execution_count": 27,
   "id": "d770c28b",
   "metadata": {},
   "outputs": [],
   "source": [
    "ratings_scaled = MinMaxScaler().fit_transform(df[['label']])\n",
    "ratings_sparse = np.array(ratings_scaled)\n",
    "X_combined = hstack([tfidf_matrix, ratings_sparse])"
   ]
  },
  {
   "cell_type": "code",
   "execution_count": 28,
   "id": "9d438a51",
   "metadata": {},
   "outputs": [],
   "source": [
    "k = 3\n",
    "kmeans = KMeans(n_clusters=k, random_state=42)\n",
    "kmeans.fit(X_combined)\n",
    "df['cluster'] = kmeans.labels_"
   ]
  },
  {
   "cell_type": "code",
   "execution_count": 35,
   "id": "52fd4329",
   "metadata": {},
   "outputs": [
    {
     "name": "stdout",
     "output_type": "stream",
     "text": [
      "Cluster 0 top terms: good, condition, received, item, fast, delivery, thank, well, quality, thanks\n",
      "Cluster 1 top terms: delivery, good, fast, well, nice, quality, seller, received, item, buy\n",
      "Cluster 2 top terms: size, item, quality, small, received, material, seller, good, delivery, thin\n",
      "         label                                               text  cluster\n",
      "0          5.0    looks ok like durable hv recommend others worth        1\n",
      "1          5.0  tried current powerful depending setting dont ...        1\n",
      "2          5.0  item received week looks smaller expected cant...        1\n",
      "3          5.0  thanks works describe complaints really expect...        1\n",
      "4          5.0  fast delivery considering overseas tried sure ...        1\n",
      "...        ...                                                ...      ...\n",
      "1502570    5.0                 tried fit nicely buy fast good buy        1\n",
      "1502571    5.0  fantastic product reasonable price good qualit...        1\n",
      "1502572    5.0  nice pair shoes gd price note cutting bit smal...        1\n",
      "1502573    1.0  leather rubbishmoulded plastic fakehow shoppee...        2\n",
      "1502574    3.0                size 41 smaller normal like size 40        2\n",
      "\n",
      "[1502573 rows x 3 columns]\n",
      "cluster\n",
      "0    4.965215\n",
      "1    4.919092\n",
      "2    2.213549\n",
      "Name: label, dtype: float64\n",
      "cluster  label\n",
      "0        5.0      0.965829\n",
      "         4.0      0.033557\n",
      "         3.0      0.000614\n",
      "1        5.0      0.919092\n",
      "         4.0      0.080908\n",
      "2        3.0      0.507794\n",
      "         1.0      0.294245\n",
      "         2.0      0.197962\n",
      "Name: proportion, dtype: float64\n"
     ]
    }
   ],
   "source": [
    "terms = vectorizer.get_feature_names_out()\n",
    "order_centroids = kmeans.cluster_centers_[:, :len(terms)].argsort()[:, ::-1]\n",
    "\n",
    "for i in range(k):\n",
    "    top_terms = [terms[ind] for ind in order_centroids[i, :10]]\n",
    "    print(f\"Cluster {i} top terms: {', '.join(top_terms)}\")\n",
    "\n",
    "print(df)\n",
    "\n",
    "print(df.groupby('cluster')['label'].mean())\n",
    "print(df.groupby('cluster')['label'].value_counts(normalize=True))"
   ]
  },
  {
   "cell_type": "code",
   "execution_count": 22,
   "id": "53c092a3",
   "metadata": {},
   "outputs": [
    {
     "data": {
      "image/png": "[encoded data removed]",
      "text/plain": [
       "<Figure size 640x480 with 1 Axes>"
      ]
     },
     "metadata": {},
     "output_type": "display_data"
    }
   ],
   "source": [
    "import matplotlib.pyplot as plt\n",
    "from sklearn.cluster import KMeans\n",
    "\n",
    "inertia = []\n",
    "K_range = range(1, 11)\n",
    "\n",
    "for k in K_range:\n",
    "    kmeans = KMeans(n_clusters=k, random_state=42)\n",
    "    kmeans.fit(X_combined)\n",
    "    inertia.append(kmeans.inertia_)\n",
    "\n",
    "# Plot to visually find the elbow\n",
    "plt.plot(K_range, inertia, marker='o')\n",
    "plt.xlabel('Number of clusters (k)')\n",
    "plt.ylabel('Inertia')\n",
    "plt.title('Elbow Method')\n",
    "plt.grid(True)\n",
    "plt.show()\n"
   ]
  },
  {
   "cell_type": "code",
   "execution_count": 30,
   "id": "6e4ba92e",
   "metadata": {},
   "outputs": [],
   "source": [
    "df = df.drop('cleaned_text', axis=1)\n",
    "df.to_csv('clustering.csv', index=False)"
   ]
  },
  {
   "cell_type": "code",
   "execution_count": 33,
   "id": "cb471b35",
   "metadata": {},
   "outputs": [
    {
     "data": {
      "text/html": [
       "<div>\n",
       "<style scoped>\n",
       "    .dataframe tbody tr th:only-of-type {\n",
       "        vertical-align: middle;\n",
       "    }\n",
       "\n",
       "    .dataframe tbody tr th {\n",
       "        vertical-align: top;\n",
       "    }\n",
       "\n",
       "    .dataframe thead th {\n",
       "        text-align: right;\n",
       "    }\n",
       "</style>\n",
       "<table border=\"1\" class=\"dataframe\">\n",
       "  <thead>\n",
       "    <tr style=\"text-align: right;\">\n",
       "      <th></th>\n",
       "      <th>label</th>\n",
       "      <th>text</th>\n",
       "      <th>cluster</th>\n",
       "    </tr>\n",
       "  </thead>\n",
       "  <tbody>\n",
       "    <tr>\n",
       "      <th>count</th>\n",
       "      <td>1.502573e+06</td>\n",
       "      <td>1502573</td>\n",
       "      <td>1.502573e+06</td>\n",
       "    </tr>\n",
       "    <tr>\n",
       "      <th>unique</th>\n",
       "      <td>NaN</td>\n",
       "      <td>1360829</td>\n",
       "      <td>NaN</td>\n",
       "    </tr>\n",
       "    <tr>\n",
       "      <th>top</th>\n",
       "      <td>NaN</td>\n",
       "      <td></td>\n",
       "      <td>NaN</td>\n",
       "    </tr>\n",
       "    <tr>\n",
       "      <th>freq</th>\n",
       "      <td>NaN</td>\n",
       "      <td>2168</td>\n",
       "      <td>NaN</td>\n",
       "    </tr>\n",
       "    <tr>\n",
       "      <th>mean</th>\n",
       "      <td>4.753131e+00</td>\n",
       "      <td>NaN</td>\n",
       "      <td>9.004541e-01</td>\n",
       "    </tr>\n",
       "    <tr>\n",
       "      <th>std</th>\n",
       "      <td>7.442271e-01</td>\n",
       "      <td>NaN</td>\n",
       "      <td>4.667969e-01</td>\n",
       "    </tr>\n",
       "    <tr>\n",
       "      <th>min</th>\n",
       "      <td>1.000000e+00</td>\n",
       "      <td>NaN</td>\n",
       "      <td>0.000000e+00</td>\n",
       "    </tr>\n",
       "    <tr>\n",
       "      <th>25%</th>\n",
       "      <td>5.000000e+00</td>\n",
       "      <td>NaN</td>\n",
       "      <td>1.000000e+00</td>\n",
       "    </tr>\n",
       "    <tr>\n",
       "      <th>50%</th>\n",
       "      <td>5.000000e+00</td>\n",
       "      <td>NaN</td>\n",
       "      <td>1.000000e+00</td>\n",
       "    </tr>\n",
       "    <tr>\n",
       "      <th>75%</th>\n",
       "      <td>5.000000e+00</td>\n",
       "      <td>NaN</td>\n",
       "      <td>1.000000e+00</td>\n",
       "    </tr>\n",
       "    <tr>\n",
       "      <th>max</th>\n",
       "      <td>5.000000e+00</td>\n",
       "      <td>NaN</td>\n",
       "      <td>2.000000e+00</td>\n",
       "    </tr>\n",
       "  </tbody>\n",
       "</table>\n",
       "</div>"
      ],
      "text/plain": [
       "               label     text       cluster\n",
       "count   1.502573e+06  1502573  1.502573e+06\n",
       "unique           NaN  1360829           NaN\n",
       "top              NaN                    NaN\n",
       "freq             NaN     2168           NaN\n",
       "mean    4.753131e+00      NaN  9.004541e-01\n",
       "std     7.442271e-01      NaN  4.667969e-01\n",
       "min     1.000000e+00      NaN  0.000000e+00\n",
       "25%     5.000000e+00      NaN  1.000000e+00\n",
       "50%     5.000000e+00      NaN  1.000000e+00\n",
       "75%     5.000000e+00      NaN  1.000000e+00\n",
       "max     5.000000e+00      NaN  2.000000e+00"
      ]
     },
     "execution_count": 33,
     "metadata": {},
     "output_type": "execute_result"
    }
   ],
   "source": [
    "df.describe(include='all')"
   ]
  },
  {
   "cell_type": "code",
   "execution_count": 34,
   "id": "14794986",
   "metadata": {},
   "outputs": [
    {
     "data": {
      "text/plain": [
       "cluster\n",
       "1    1160274\n",
       "0     245937\n",
       "2      96362\n",
       "Name: count, dtype: int64"
      ]
     },
     "execution_count": 34,
     "metadata": {},
     "output_type": "execute_result"
    }
   ],
   "source": [
    "df['cluster'].value_counts()"
   ]
  },
  {
   "cell_type": "code",
   "execution_count": null,
   "id": "22d23144",
   "metadata": {},
   "outputs": [],
   "source": []
  }
 ],
 "metadata": {
  "kernelspec": {
   "display_name": "Python 3",
   "language": "python",
   "name": "python3"
  },
  "language_info": {
   "codemirror_mode": {
    "name": "ipython",
    "version": 3
   },
   "file_extension": ".py",
   "mimetype": "text/x-python",
   "name": "python",
   "nbconvert_exporter": "python",
   "pygments_lexer": "ipython3",
   "version": "3.11.0"
  }
 },
 "nbformat": 4,
 "nbformat_minor": 5
}
